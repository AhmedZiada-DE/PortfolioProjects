{
 "cells": [
  {
   "cell_type": "code",
   "execution_count": 1,
   "metadata": {},
   "outputs": [],
   "source": [
    "import requests\n",
    "from bs4 import BeautifulSoup"
   ]
  },
  {
   "cell_type": "code",
   "execution_count": 58,
   "metadata": {},
   "outputs": [],
   "source": [
    "base_url=\"https://myanimelist.net/topanime.php?limit={}\""
   ]
  },
  {
   "cell_type": "code",
   "execution_count": 59,
   "metadata": {},
   "outputs": [],
   "source": [
    "res=requests.get(base_url.format(''))"
   ]
  },
  {
   "cell_type": "code",
   "execution_count": 60,
   "metadata": {},
   "outputs": [],
   "source": [
    "soup=BeautifulSoup(res.text,'lxml')"
   ]
  },
  {
   "cell_type": "code",
   "execution_count": 61,
   "metadata": {},
   "outputs": [],
   "source": [
    "product=soup.select(\".ranking-list\")"
   ]
  },
  {
   "cell_type": "code",
   "execution_count": 62,
   "metadata": {},
   "outputs": [
    {
     "data": {
      "text/plain": [
       "50"
      ]
     },
     "execution_count": 62,
     "metadata": {},
     "output_type": "execute_result"
    }
   ],
   "source": [
    "len(product)"
   ]
  },
  {
   "cell_type": "code",
   "execution_count": 63,
   "metadata": {},
   "outputs": [],
   "source": [
    "title=product[0].find('h3').text"
   ]
  },
  {
   "cell_type": "code",
   "execution_count": 64,
   "metadata": {},
   "outputs": [
    {
     "data": {
      "text/plain": [
       "'Bleach: Sennen Kessen-hen'"
      ]
     },
     "execution_count": 64,
     "metadata": {},
     "output_type": "execute_result"
    }
   ],
   "source": [
    "title"
   ]
  },
  {
   "cell_type": "code",
   "execution_count": 65,
   "metadata": {},
   "outputs": [],
   "source": [
    "rating=product[0].find('td',class_=\"score ac fs14\").find('span').text"
   ]
  },
  {
   "cell_type": "code",
   "execution_count": 66,
   "metadata": {},
   "outputs": [
    {
     "data": {
      "text/plain": [
       "'9.11'"
      ]
     },
     "execution_count": 66,
     "metadata": {},
     "output_type": "execute_result"
    }
   ],
   "source": [
    "rating"
   ]
  },
  {
   "cell_type": "code",
   "execution_count": 69,
   "metadata": {},
   "outputs": [],
   "source": [
    "rank=product[0].find('td',class_='rank ac').find('span').text\n",
    "#.find('tr',class_='ranking-list')\n",
    "#.find('td',class_='rank ac')"
   ]
  },
  {
   "cell_type": "code",
   "execution_count": 70,
   "metadata": {},
   "outputs": [
    {
     "data": {
      "text/plain": [
       "'1'"
      ]
     },
     "execution_count": 70,
     "metadata": {},
     "output_type": "execute_result"
    }
   ],
   "source": [
    "rank"
   ]
  },
  {
   "cell_type": "code",
   "execution_count": null,
   "metadata": {},
   "outputs": [],
   "source": []
  },
  {
   "cell_type": "code",
   "execution_count": 75,
   "metadata": {},
   "outputs": [],
   "source": [
    "for num in range(0,1):\n",
    "    anime=dict()\n",
    "    info=tuple()\n",
    "    base_url=\"https://myanimelist.net/topanime.php?limit={}\"\n",
    "    page_limit=num*50\n",
    "    res=requests.get(base_url.format(page_limit))\n",
    "    soup=BeautifulSoup(res.text,'lxml')\n",
    "    product=soup.select(\".ranking-list\")\n",
    "    for idx,each_page in enumerate(product):\n",
    "        title=product[idx].find('h3').text\n",
    "        rating=product[idx].find('td',class_=\"score ac fs14\").find('span').text\n",
    "        rank=product[idx].find('td',class_='rank ac').find('span').text\n",
    "        rate=float(rating)\n",
    "        if rate>8.5:\n",
    "            info=(title,rating)\n",
    "            anime[rank]=info\n"
   ]
  },
  {
   "cell_type": "code",
   "execution_count": 76,
   "metadata": {},
   "outputs": [
    {
     "data": {
      "text/plain": [
       "{'1': ('Bleach: Sennen Kessen-hen', '9.11'),\n",
       " '2': ('Fullmetal Alchemist: Brotherhood', '9.11'),\n",
       " '3': ('Steins;Gate', '9.08'),\n",
       " '4': ('Gintama°', '9.07'),\n",
       " '5': ('Kaguya-sama wa Kokurasetai: Ultra Romantic', '9.07'),\n",
       " '6': ('Shingeki no Kyojin Season 3 Part 2', '9.06'),\n",
       " '7': ('Gintama: The Final', '9.05'),\n",
       " '8': (\"Gintama'\", '9.04'),\n",
       " '9': ('Hunter x Hunter (2011)', '9.04'),\n",
       " '10': ('Ginga Eiyuu Densetsu', '9.03'),\n",
       " '11': (\"Gintama': Enchousen\", '9.03'),\n",
       " '12': ('Fruits Basket: The Final', '9.01'),\n",
       " '13': ('Gintama.', '8.99'),\n",
       " '14': ('Bocchi the Rock!', '8.96'),\n",
       " '15': ('3-gatsu no Lion 2nd Season', '8.94'),\n",
       " '16': ('Clannad: After Story', '8.94'),\n",
       " '17': ('Gintama', '8.94'),\n",
       " '18': ('Koe no Katachi', '8.94'),\n",
       " '19': ('Gintama Movie 2: Kanketsu-hen - Yorozuya yo Eien Nare', '8.92'),\n",
       " '20': ('Violet Evergarden Movie', '8.92'),\n",
       " '21': ('Code Geass: Hangyaku no Lelouch R2', '8.91'),\n",
       " '22': ('Owarimonogatari 2nd Season', '8.89'),\n",
       " '23': ('Gintama.: Shirogane no Tamashii-hen - Kouhan-sen', '8.88'),\n",
       " '24': ('Kimi no Na wa.', '8.85'),\n",
       " '25': ('Monster', '8.85'),\n",
       " '26': ('Kimetsu no Yaiba: Yuukaku-hen', '8.82'),\n",
       " '27': ('Vinland Saga Season 2', '8.82'),\n",
       " '28': ('Mob Psycho 100 II', '8.81'),\n",
       " '29': ('Shingeki no Kyojin: The Final Season', '8.81'),\n",
       " '30': ('Gintama.: Shirogane no Tamashii-hen', '8.81'),\n",
       " '31': ('Kingdom 3rd Season', '8.81'),\n",
       " '32': ('Haikyuu!! Karasuno Koukou vs. Shiratorizawa Gakuen Koukou', '8.79'),\n",
       " '33': ('Kizumonogatari III: Reiketsu-hen', '8.79'),\n",
       " '34': ('Sen to Chihiro no Kamikakushi', '8.78'),\n",
       " '35': ('Shingeki no Kyojin: The Final Season Part 2', '8.78'),\n",
       " '36': ('Monogatari Series: Second Season', '8.77'),\n",
       " '37': ('Shiguang Dailiren', '8.76'),\n",
       " '38': ('Kingdom 4th Season', '8.76'),\n",
       " '39': ('Cowboy Bebop', '8.75'),\n",
       " '40': ('Hajime no Ippo', '8.75'),\n",
       " '41': ('Mob Psycho 100 III', '8.75'),\n",
       " '42': ('Mushishi Zoku Shou 2nd Season', '8.74'),\n",
       " '43': ('Shouwa Genroku Rakugo Shinjuu: Sukeroku Futatabi-hen', '8.73'),\n",
       " '44': ('Vinland Saga', '8.73'),\n",
       " '45': ('JoJo no Kimyou na Bouken Part 6: Stone Ocean Part 3', '8.72'),\n",
       " '46': ('86 Part 2', '8.71'),\n",
       " '47': ('Ashita no Joe 2', '8.71'),\n",
       " '48': ('Mushoku Tensei: Isekai Ittara Honki Dasu Part 2', '8.71'),\n",
       " '49': ('Odd Taxi', '8.71'),\n",
       " '50': ('Rurouni Kenshin: Meiji Kenkaku Romantan - Tsuioku-hen', '8.71')}"
      ]
     },
     "execution_count": 76,
     "metadata": {},
     "output_type": "execute_result"
    }
   ],
   "source": [
    "anime"
   ]
  },
  {
   "cell_type": "code",
   "execution_count": null,
   "metadata": {},
   "outputs": [],
   "source": []
  }
 ],
 "metadata": {
  "kernelspec": {
   "display_name": "Python 3",
   "language": "python",
   "name": "python3"
  },
  "language_info": {
   "codemirror_mode": {
    "name": "ipython",
    "version": 3
   },
   "file_extension": ".py",
   "mimetype": "text/x-python",
   "name": "python",
   "nbconvert_exporter": "python",
   "pygments_lexer": "ipython3",
   "version": "3.11.0"
  },
  "orig_nbformat": 4,
  "vscode": {
   "interpreter": {
    "hash": "5238573367df39f7286bb46f9ff5f08f63a01a80960060ce41e3c79b190280fa"
   }
  }
 },
 "nbformat": 4,
 "nbformat_minor": 2
}
